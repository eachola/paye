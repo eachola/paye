{
 "cells": [
  {
   "cell_type": "code",
   "execution_count": null,
   "id": "fa6aa6dd",
   "metadata": {},
   "outputs": [],
   "source": [
    "def paye (x):\n",
    "    if x <= 24000:\n",
    "        return x*0.10\n",
    "    elif x <= 32333:\n",
    "        return (0.10*24000 + 0.25*(x-24000))\n",
    "    elif x > 32333:\n",
    "        return (0.10*24000 + 0.25*8333 + 0.30*(x-32333))\n",
    "    \n",
    "taxable_pay = int(input(\"Taxable pay: \"))\n",
    "\n",
    "print(paye(taxable_pay))\n",
    "    \n",
    "    "
   ]
  },
  {
   "cell_type": "code",
   "execution_count": null,
   "id": "94f04226",
   "metadata": {},
   "outputs": [],
   "source": [
    "def payea (x):\n",
    "    if x <= 288000:\n",
    "        return x*0.10\n",
    "    elif x <= 388000:\n",
    "        return (0.10*288000 + 0.25*(x-288000))\n",
    "    elif x > 388000:\n",
    "        return (0.10*288000 + 0.25*100000 + 0.30*(x-388000))\n",
    "    \n",
    "    "
   ]
  },
  {
   "cell_type": "code",
   "execution_count": null,
   "id": "59c4a991",
   "metadata": {},
   "outputs": [],
   "source": []
  }
 ],
 "metadata": {
  "kernelspec": {
   "display_name": "Python 3 (ipykernel)",
   "language": "python",
   "name": "python3"
  },
  "language_info": {
   "codemirror_mode": {
    "name": "ipython",
    "version": 3
   },
   "file_extension": ".py",
   "mimetype": "text/x-python",
   "name": "python",
   "nbconvert_exporter": "python",
   "pygments_lexer": "ipython3",
   "version": "3.9.7"
  }
 },
 "nbformat": 4,
 "nbformat_minor": 5
}
